{
 "cells": [
  {
   "cell_type": "code",
   "execution_count": 6,
   "id": "a7361d42-7ed6-453d-b093-4b0a24742eed",
   "metadata": {},
   "outputs": [],
   "source": [
    "import pandas as pd\n",
    "import numpy as np\n",
    "from pycoingecko import CoinGeckoAPI as CGAPI\n",
    "from datetime import datetime, timedelta\n",
    "from pypfopt import expected_returns, risk_models, EfficientFrontier"
   ]
  },
  {
   "cell_type": "code",
   "execution_count": 7,
   "id": "d7a335bf-22a8-44ff-b6fd-8c8ed666485e",
   "metadata": {},
   "outputs": [
    {
     "name": "stdout",
     "output_type": "stream",
     "text": [
      "                 ada      hbar       min       vet           btc          eth\n",
      "timestamp                                                                    \n",
      "2024-06-03  0.446384  0.099201  0.025877  0.033283  67740.016902  3780.711985\n",
      "2024-06-04  0.456805  0.101076  0.026794  0.033645  68808.293686  3766.637650\n",
      "2024-06-05  0.461416  0.102518  0.027068  0.034305  70600.011167  3814.932030\n",
      "2024-06-06  0.461678  0.104484  0.026818  0.035587  71184.599431  3871.082091\n",
      "2024-06-07  0.458149  0.101425  0.026543  0.035788  70759.588193  3812.701857\n"
     ]
    }
   ],
   "source": [
    "coins = {\n",
    "    \"ada\": \"cardano\",\n",
    "    \"hbar\": \"hedera-hashgraph\",\n",
    "    \"min\": \"minswap\",\n",
    "    \"vet\": \"vechain\",\n",
    "    \"btc\": \"bitcoin\",\n",
    "    \"eth\": \"ethereum\",\n",
    "}\n",
    "\n",
    "# Define the CoinGeckoAPI wrapper class\n",
    "class CoinGeckoAPI:\n",
    "    def __init__(self):\n",
    "        self.cg = CGAPI()\n",
    "\n",
    "    def get_price_df(self, coin_id):\n",
    "        end_date = datetime.today()\n",
    "        start_date = end_date - timedelta(days=365)  # 1 year history\n",
    "\n",
    "        data = self.cg.get_coin_market_chart_range_by_id(\n",
    "            id=coin_id,\n",
    "            vs_currency='usd',\n",
    "            from_timestamp=start_date.timestamp(),\n",
    "            to_timestamp=end_date.timestamp()\n",
    "        )\n",
    "\n",
    "        df = pd.DataFrame(data['prices'], columns=['timestamp', 'price'])\n",
    "        df['timestamp'] = pd.to_datetime(df['timestamp'], unit='ms')\n",
    "        df.set_index('timestamp', inplace=True)\n",
    "        return df\n",
    "\n",
    "# Instantiate the API\n",
    "gecko = CoinGeckoAPI()\n",
    "\n",
    "# Empty DataFrame to store prices\n",
    "price_df = pd.DataFrame()\n",
    "\n",
    "# Loop through each coin and fetch price history\n",
    "for symbol, coin_id in coins.items():\n",
    "    try:\n",
    "        df = gecko.get_price_df(coin_id)\n",
    "        price_df[symbol] = df['price']\n",
    "    except Exception as e:\n",
    "        print(f\"Error fetching {coin_id}: {e}\")\n",
    "\n",
    "# Show the result\n",
    "print(price_df.head())\n",
    "\n",
    "\n",
    "\n",
    "\n"
   ]
  },
  {
   "cell_type": "code",
   "execution_count": null,
   "id": "708acb07-2514-4a64-a247-da264eff3e16",
   "metadata": {},
   "outputs": [],
   "source": []
  },
  {
   "cell_type": "code",
   "execution_count": 3,
   "id": "8702d301-8f6c-4ff3-b910-0f72464ab223",
   "metadata": {},
   "outputs": [
    {
     "name": "stdout",
     "output_type": "stream",
     "text": [
      "{'ada': 'cardano', 'hbar': 'hedera-hashgraph', 'min': 'minswap', 'vet': 'vechain', 'btc': 'bitcoin', 'eth': 'ethereum'}\n"
     ]
    }
   ],
   "source": [
    "print(coins)\n"
   ]
  },
  {
   "cell_type": "code",
   "execution_count": 4,
   "id": "936e60b2-9960-4b7f-8291-6b28e255ddf4",
   "metadata": {},
   "outputs": [],
   "source": [
    "price_df = price_df.resample('1D').last().dropna()\n",
    "price_df = price_df.ffill().bfill()  # fill gaps\n"
   ]
  },
  {
   "cell_type": "code",
   "execution_count": 5,
   "id": "51565587-5153-4de1-be25-c91d262aaa93",
   "metadata": {},
   "outputs": [
    {
     "name": "stdout",
     "output_type": "stream",
     "text": [
      "Optimized Weights:\n",
      "OrderedDict([('ada', 0.0), ('hbar', 0.00152), ('min', 0.0), ('vet', 0.0), ('btc', 0.99848), ('eth', 0.0)])\n",
      "Expected annual return: 36.1%\n",
      "Annual volatility: 41.2%\n",
      "Sharpe Ratio: 0.88\n"
     ]
    },
    {
     "data": {
      "text/plain": [
       "(0.36095378145733553, 0.41241472009718705, 0.8752204125310451)"
      ]
     },
     "execution_count": 5,
     "metadata": {},
     "output_type": "execute_result"
    }
   ],
   "source": [
    "# Calculate expected returns and sample covariance\n",
    "mu = expected_returns.mean_historical_return(price_df)\n",
    "S = risk_models.sample_cov(price_df)\n",
    "\n",
    "# Optimize portfolio for maximum Sharpe ratio\n",
    "ef = EfficientFrontier(mu, S)\n",
    "weights = ef.max_sharpe()\n",
    "cleaned_weights = ef.clean_weights()\n",
    "\n",
    "print(\"Optimized Weights:\")\n",
    "print(cleaned_weights)\n",
    "ef.portfolio_performance(verbose=True)"
   ]
  },
  {
   "cell_type": "code",
   "execution_count": null,
   "id": "d4b58e68-a37f-4cde-9bd1-81332870d579",
   "metadata": {},
   "outputs": [],
   "source": []
  },
  {
   "cell_type": "code",
   "execution_count": null,
   "id": "accb0e68-116b-4a1d-a770-ae7f86920639",
   "metadata": {},
   "outputs": [],
   "source": []
  }
 ],
 "metadata": {
  "kernelspec": {
   "display_name": "Python 3 (ipykernel)",
   "language": "python",
   "name": "python3"
  },
  "language_info": {
   "codemirror_mode": {
    "name": "ipython",
    "version": 3
   },
   "file_extension": ".py",
   "mimetype": "text/x-python",
   "name": "python",
   "nbconvert_exporter": "python",
   "pygments_lexer": "ipython3",
   "version": "3.11.5"
  }
 },
 "nbformat": 4,
 "nbformat_minor": 5
}
